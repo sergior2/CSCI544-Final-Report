{
 "cells": [
  {
   "cell_type": "code",
   "execution_count": 2,
   "metadata": {},
   "outputs": [],
   "source": [
    "import syllables\n",
    "import re\n"
   ]
  },
  {
   "cell_type": "code",
   "execution_count": 3,
   "metadata": {},
   "outputs": [
    {
     "data": {
      "text/plain": [
       "'est'"
      ]
     },
     "execution_count": 3,
     "metadata": {},
     "output_type": "execute_result"
    }
   ],
   "source": [
    "re.sub('[^a-z ]','','Test - 2').strip()"
   ]
  },
  {
   "cell_type": "code",
   "execution_count": 5,
   "metadata": {},
   "outputs": [],
   "source": [
    "counts_list = []\n",
    "haikus = []\n",
    "with open('loweredcase.txt',encoding='utf-8') as fp:\n",
    "    for line in fp:\n",
    "        line = line.strip().lower()\n",
    "        w_cnts, text = line.split('|',maxsplit=1)\n",
    "        counts = w_cnts.split(',',maxsplit=2)\n",
    "        haiku = text.split('/',maxsplit=2)\n",
    "        # syllable_cnt = []\n",
    "        counts_list.append(counts)\n",
    "        haikus.append(haiku)\n",
    "        \n",
    "        "
   ]
  },
  {
   "cell_type": "code",
   "execution_count": 29,
   "metadata": {},
   "outputs": [],
   "source": [
    "syllable_cnt_list = []\n",
    "for haiku in haikus:\n",
    "    line_cnt = []\n",
    "    for line in haiku:\n",
    "        line = re.sub('[^a-z ]','',line.lower())\n",
    "        # print(line)\n",
    "        c_sum = 0\n",
    "        for word in line.split():\n",
    "            c_sum += syllables.estimate(word)\n",
    "        # c_sum = syllables.estimate(line)\n",
    "        line_cnt.append(c_sum)\n",
    "    syllable_cnt_list.append(line_cnt)\n",
    "    \n"
   ]
  },
  {
   "cell_type": "code",
   "execution_count": 30,
   "metadata": {},
   "outputs": [
    {
     "data": {
      "text/plain": [
       "[[5, 7, 5], [5, 8, 5], [6, 8, 5], [5, 7, 5], [7, 7, 5]]"
      ]
     },
     "execution_count": 30,
     "metadata": {},
     "output_type": "execute_result"
    }
   ],
   "source": [
    "syllable_cnt_list[:5]"
   ]
  },
  {
   "cell_type": "code",
   "execution_count": 19,
   "metadata": {},
   "outputs": [
    {
     "data": {
      "text/plain": [
       "[[5, 7, 5], [5, 7, 5], [6, 7, 5], [5, 7, 5], [6, 7, 5]]"
      ]
     },
     "execution_count": 19,
     "metadata": {},
     "output_type": "execute_result"
    }
   ],
   "source": [
    "syllable_cnt_list[:5]"
   ]
  },
  {
   "cell_type": "code",
   "execution_count": 13,
   "metadata": {},
   "outputs": [],
   "source": [
    "with open('ken1.txt','w',encoding='utf-8') as fo:\n",
    "    for line_cnt, haiku in zip(counts_list,haikus):\n",
    "        line_cnt = ', '.join(line_cnt)\n",
    "        haiku = ' / '.join(haiku)\n",
    "        line = f'{line_cnt} | {haiku}'\n",
    "        line = re.sub('\\s+',' ',line)\n",
    "        fo.write(line+'\\n')"
   ]
  },
  {
   "cell_type": "code",
   "execution_count": 20,
   "metadata": {},
   "outputs": [],
   "source": [
    "with open('ken2.txt','w',encoding='utf-8') as fo:\n",
    "    for line_cnt, haiku in zip(syllable_cnt_list,haikus):\n",
    "        line_cnt = ', '.join([str(x) for x in line_cnt])\n",
    "        haiku = ' / '.join(haiku)\n",
    "        line = f'{line_cnt} | {haiku}'\n",
    "        line = re.sub('\\s+',' ',line)\n",
    "        fo.write(line+'\\n')"
   ]
  },
  {
   "cell_type": "code",
   "execution_count": 38,
   "metadata": {},
   "outputs": [
    {
     "data": {
      "text/plain": [
       "10"
      ]
     },
     "execution_count": 38,
     "metadata": {},
     "output_type": "execute_result"
    }
   ],
   "source": [
    "syllables.estimate('gene i thought i smelled something')"
   ]
  }
 ],
 "metadata": {
  "kernelspec": {
   "display_name": "Python 3.8.12 ('torch38')",
   "language": "python",
   "name": "python3"
  },
  "language_info": {
   "codemirror_mode": {
    "name": "ipython",
    "version": 3
   },
   "file_extension": ".py",
   "mimetype": "text/x-python",
   "name": "python",
   "nbconvert_exporter": "python",
   "pygments_lexer": "ipython3",
   "version": "3.8.12"
  },
  "orig_nbformat": 4,
  "vscode": {
   "interpreter": {
    "hash": "0a36de45f9eafbca8e6b28b7cbdad23baeccb2be7ea045f640cf073e9655bccd"
   }
  }
 },
 "nbformat": 4,
 "nbformat_minor": 2
}

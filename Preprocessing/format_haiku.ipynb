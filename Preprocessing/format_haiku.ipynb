{
 "cells": [
  {
   "cell_type": "code",
   "execution_count": 33,
   "metadata": {},
   "outputs": [
    {
     "data": {
      "text/html": [
       "<div>\n",
       "<style scoped>\n",
       "    .dataframe tbody tr th:only-of-type {\n",
       "        vertical-align: middle;\n",
       "    }\n",
       "\n",
       "    .dataframe tbody tr th {\n",
       "        vertical-align: top;\n",
       "    }\n",
       "\n",
       "    .dataframe thead th {\n",
       "        text-align: right;\n",
       "    }\n",
       "</style>\n",
       "<table border=\"1\" class=\"dataframe\">\n",
       "  <thead>\n",
       "    <tr style=\"text-align: right;\">\n",
       "      <th></th>\n",
       "      <th>0</th>\n",
       "      <th>1</th>\n",
       "      <th>2</th>\n",
       "      <th>source</th>\n",
       "      <th>0_syllables</th>\n",
       "      <th>1_syllables</th>\n",
       "      <th>2_syllables</th>\n",
       "    </tr>\n",
       "  </thead>\n",
       "  <tbody>\n",
       "    <tr>\n",
       "      <th>0</th>\n",
       "      <td>Memorial Day --</td>\n",
       "      <td>a shadow for each</td>\n",
       "      <td>white cross</td>\n",
       "      <td>tempslibres</td>\n",
       "      <td>5</td>\n",
       "      <td>5</td>\n",
       "      <td>2</td>\n",
       "    </tr>\n",
       "    <tr>\n",
       "      <th>1</th>\n",
       "      <td>spring rain -</td>\n",
       "      <td>as the doctor speaks</td>\n",
       "      <td>i think of lilacs</td>\n",
       "      <td>tempslibres</td>\n",
       "      <td>2,3</td>\n",
       "      <td>5</td>\n",
       "      <td>5</td>\n",
       "    </tr>\n",
       "    <tr>\n",
       "      <th>2</th>\n",
       "      <td>spring moonset --</td>\n",
       "      <td>a rice ball for</td>\n",
       "      <td>breakfast</td>\n",
       "      <td>tempslibres</td>\n",
       "      <td>3,4</td>\n",
       "      <td>4</td>\n",
       "      <td>2</td>\n",
       "    </tr>\n",
       "    <tr>\n",
       "      <th>3</th>\n",
       "      <td>sunny afternoon</td>\n",
       "      <td>an old man lingers</td>\n",
       "      <td>near the mailbox</td>\n",
       "      <td>tempslibres</td>\n",
       "      <td>5</td>\n",
       "      <td>5</td>\n",
       "      <td>4</td>\n",
       "    </tr>\n",
       "    <tr>\n",
       "      <th>4</th>\n",
       "      <td>cinco de mayo</td>\n",
       "      <td>horses roll</td>\n",
       "      <td>in the shallows</td>\n",
       "      <td>tempslibres</td>\n",
       "      <td>5</td>\n",
       "      <td>3</td>\n",
       "      <td>4</td>\n",
       "    </tr>\n",
       "  </tbody>\n",
       "</table>\n",
       "</div>"
      ],
      "text/plain": [
       "                   0                     1                  2       source  \\\n",
       "0    Memorial Day --     a shadow for each        white cross  tempslibres   \n",
       "1      spring rain -  as the doctor speaks  i think of lilacs  tempslibres   \n",
       "2  spring moonset --       a rice ball for          breakfast  tempslibres   \n",
       "3    sunny afternoon    an old man lingers   near the mailbox  tempslibres   \n",
       "4      cinco de mayo           horses roll    in the shallows  tempslibres   \n",
       "\n",
       "  0_syllables 1_syllables 2_syllables  \n",
       "0           5           5           2  \n",
       "1         2,3           5           5  \n",
       "2         3,4           4           2  \n",
       "3           5           5           4  \n",
       "4           5           3           4  "
      ]
     },
     "execution_count": 33,
     "metadata": {},
     "output_type": "execute_result"
    }
   ],
   "source": [
    "import pandas as pd\n",
    "import re\n",
    "\n",
    "data = pd.read_csv(\"haikus.csv\",header=0)\n",
    "data.head()\n"
   ]
  },
  {
   "cell_type": "code",
   "execution_count": 34,
   "metadata": {},
   "outputs": [],
   "source": [
    "def clean_text(text):\n",
    "    text = str(text)\n",
    "    text = text.lower()\n",
    "    text = re.sub('[^a-z ]','',text).strip()\n",
    "    return text\n",
    "    \n",
    "data['0'] = data['0'].apply(clean_text)\n",
    "data['1'] = data['1'].apply(clean_text)\n",
    "data['2'] = data['2'].apply(clean_text)"
   ]
  },
  {
   "cell_type": "code",
   "execution_count": 35,
   "metadata": {},
   "outputs": [],
   "source": [
    "def format_syllable_count(text):\n",
    "    if ',' in text:\n",
    "        text = text[0]\n",
    "    return text\n",
    "\n",
    "data['0_syllables'] = data['0_syllables'].apply(format_syllable_count)\n",
    "data['1_syllables'] = data['1_syllables'].apply(format_syllable_count)\n",
    "data['2_syllables'] = data['2_syllables'].apply(format_syllable_count)"
   ]
  },
  {
   "cell_type": "code",
   "execution_count": 48,
   "metadata": {},
   "outputs": [
    {
     "name": "stdout",
     "output_type": "stream",
     "text": [
      "--memorial day\n"
     ]
    }
   ],
   "source": [
    "for i,row in data.iterrows():\n",
    "    a = row['0']\n",
    "    txt = f'--{a}'\n",
    "    print(txt)\n",
    "    break"
   ]
  },
  {
   "cell_type": "code",
   "execution_count": 51,
   "metadata": {},
   "outputs": [],
   "source": [
    "with open('haiku_formatted2.txt','w') as fo:\n",
    "    for i,row in data.iterrows():\n",
    "        s0 = row['0_syllables']\n",
    "        s1 = row['1_syllables']\n",
    "        s2 = row['2_syllables']\n",
    "        l0 = row['0']\n",
    "        l1 = row['1']\n",
    "        l2 = row['2']\n",
    "        # haiku = f'LENGTH: {s0} {s1} {s2}\\nFIRST: {l0}\\nSECOND: {l1}\\nTHIRD: {l2}\\n<|endoftext|>\\n\\n'\n",
    "        haiku = f'{s0} - {s1} - {s2} : {l0} / {l1} / {l2} \\n'\n",
    "        fo.write(haiku)"
   ]
  }
 ],
 "metadata": {
  "kernelspec": {
   "display_name": "Python 3.6.10 ('py36tf')",
   "language": "python",
   "name": "python3"
  },
  "language_info": {
   "codemirror_mode": {
    "name": "ipython",
    "version": 3
   },
   "file_extension": ".py",
   "mimetype": "text/x-python",
   "name": "python",
   "nbconvert_exporter": "python",
   "pygments_lexer": "ipython3",
   "version": "3.6.10"
  },
  "orig_nbformat": 4,
  "vscode": {
   "interpreter": {
    "hash": "744529b6203cf2d6de15ee446c5142fbf2090d25d647f039226384d9abb11550"
   }
  }
 },
 "nbformat": 4,
 "nbformat_minor": 2
}
